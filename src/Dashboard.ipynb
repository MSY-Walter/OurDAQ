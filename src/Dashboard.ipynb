{
 "cells": [
  {
   "cell_type": "code",
   "execution_count": 1,
   "metadata": {},
   "outputs": [
    {
     "data": {
      "application/vnd.jupyter.widget-view+json": {
       "model_id": "96beeb7483364782a936177141637191",
       "version_major": 2,
       "version_minor": 0
      },
      "text/plain": [
       "VBox(children=(HBox(children=(FloatText(value=0.6023, description='Spannung:', disabled=True, style=Descriptio…"
      ]
     },
     "metadata": {},
     "output_type": "display_data"
    }
   ],
   "source": [
    "# Importieren der benötigten Bibliotheken\n",
    "import ipywidgets as widgets\n",
    "from IPython.display import display\n",
    "import time\n",
    "from Messdaten_Generator import DataGenerator\n",
    "\n",
    "# Initialisierung des Daten-Generators\n",
    "generator = DataGenerator()\n",
    "\n",
    "# Erstellen des Dashboard-Layouts\n",
    "spannung_anzeige = widgets.FloatText(\n",
    "    value=0.0,\n",
    "    description='Spannung:',\n",
    "    disabled=True,\n",
    "    style={'description_width': 'initial'}\n",
    ")\n",
    "\n",
    "strom_anzeige = widgets.FloatText(\n",
    "    value=0.0,\n",
    "    description='Strom:',\n",
    "    disabled=True,\n",
    "    style={'description_width': 'initial'}\n",
    ")\n",
    "\n",
    "temperatur_anzeige = widgets.FloatText(\n",
    "    value=0.0,\n",
    "    description='Temperatur:',\n",
    "    disabled=True,\n",
    "    style={'description_width': 'initial'}\n",
    ")\n",
    "\n",
    "# Funktion zur kontinuierlichen Aktualisierung\n",
    "def update_value():\n",
    "    while True:\n",
    "        daten = generator.generiere_messdaten()\n",
    "        spannung_anzeige.value = daten['spannung']\n",
    "        strom_anzeige.value = daten['strom']\n",
    "        temperatur_anzeige.value = daten['temperatur']\n",
    "        time.sleep(0.1)  # Aktualisierung alle 0.1 Sekunden\n",
    "\n",
    "# Starten des Update-Threads\n",
    "import threading\n",
    "update_thread = threading.Thread(target=update_value)\n",
    "update_thread.daemon = True\n",
    "update_thread.start()\n",
    "\n",
    "# Anzeigen des Dashboards\n",
    "display(widgets.VBox([\n",
    "    widgets.HBox([spannung_anzeige, widgets.Label('V')]),\n",
    "    widgets.HBox([strom_anzeige, widgets.Label('A')]),\n",
    "    widgets.HBox([temperatur_anzeige, widgets.Label('°C')])\n",
    "]))"
   ]
  }
 ],
 "metadata": {
  "kernelspec": {
   "display_name": ".venv",
   "language": "python",
   "name": "python3"
  },
  "language_info": {
   "codemirror_mode": {
    "name": "ipython",
    "version": 3
   },
   "file_extension": ".py",
   "mimetype": "text/x-python",
   "name": "python",
   "nbconvert_exporter": "python",
   "pygments_lexer": "ipython3",
   "version": "3.13.2"
  }
 },
 "nbformat": 4,
 "nbformat_minor": 4
}
