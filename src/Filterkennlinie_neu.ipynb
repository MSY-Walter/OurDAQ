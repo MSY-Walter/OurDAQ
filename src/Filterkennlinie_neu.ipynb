{
  "metadata": {
    "kernelspec": {
      "name": "xpython",
      "display_name": "Python 3.13 (XPython)",
      "language": "python"
    },
    "language_info": {
      "file_extension": ".py",
      "mimetype": "text/x-python",
      "name": "python",
      "version": "3.13.1"
    }
  },
  "nbformat_minor": 5,
  "nbformat": 4,
  "cells": [
    {
      "id": "d18e4bc8-a49e-42a1-8686-7b4d3c69d436",
      "cell_type": "markdown",
      "source": "# Frequenzgang-Messung (MCC118) - Automatisierte Filterkennlinie-Charakterisierung\n\n## Einführung\n\nDieses Jupyter Notebook dokumentiert die automatisierte Messung der Frequenzgang-Charakteristik (Bode-Diagramm) eines analogen Filters oder Verstärkers. Die Messung erfolgt mit einem MCC118 Datenerfassungssystem und einem externen Funktionsgenerator.\n\n### Theoretischer Hintergrund\n\nEin **Frequenzgang** beschreibt das Übertragungsverhalten eines linearen Systems im Frequenzbereich und wird durch zwei charakteristische Größen definiert:\n\n1. **Amplitudengang (Gain)**: A(f) = |H(jω)| in dB = 20·log₁₀(V_out/V_in)\n2. **Phasengang**: φ(f) = arg(H(jω)) = φ_out - φ_in\n\n### Messmethodik\n\n- **Kanal 6**: Eingang (Funktionsgenerator-Signal)\n- **Kanal 7**: Ausgang (Filter-Antwort)\n- **AC-RMS Messung**: Eliminiert DC-Anteile für korrekte Verstärkungsberechnung\n- **Lock-In Phasenmessung**: I/Q-Demodulation für präzise Phasenbestimmung\n- **Multiplexer-Delay Korrektur**: Kompensiert zeitliche Versetzung zwischen Kanälen\n\n---\n\n## 1. Import der benötigten Bibliotheken\n\n\n\n\n\n\n\n\n\n\n\n\n\n\n",
      "metadata": {}
    },
    {
      "id": "e9b23026-a221-4d4b-9226-c4c76779aa3d",
      "cell_type": "code",
      "source": "#!/usr/bin/env python3\n# -*- coding: utf-8 -*-\n\"\"\"\nFrequenzgang-Messung (MCC118)\nKanal 6 = Eingang (Funktionsgenerator)\nKanal 7 = Ausgang (Filter)\n- Gain(dB) aus AC-RMS (DC entfernt)\n- Phase via Lock-In (I/Q)\n- Korrektur der Kanal-Scan-Verzögerung (Multiplexer Delay)\n- Drei Plots: Gain, Phase, Vrms (In/Out)\n\"\"\"\n\nimport numpy as np              # Numerische Berechnungen und Arrays\nimport matplotlib.pyplot as plt # Visualisierung der Frequenzgang-Diagramme  \nfrom daqhats import mcc118, OptionFlags  # MCC118 Datenerfassungssystem",
      "metadata": {
        "trusted": true
      },
      "outputs": [],
      "execution_count": null
    },
    {
      "id": "1aaa4ea5-aee3-4087-8c36-495aaf9d057c",
      "cell_type": "markdown",
      "source": "### Bibliotheken-Übersicht:\n- **numpy**: Mathematische Funktionen für Signalverarbeitung (FFT, RMS, Phasenberechnung)\n- **matplotlib**: Erstellung der Bode-Diagramme (Amplituden- und Phasengang)\n- **daqhats**: Interface zum MCC118 für simultane Zweikanal-Messungen\n\n---\n\n## 2. Hilfsfunktionen für Signalverarbeitung\n\n### 2.1 AC-RMS Berechnung (DC-Komponente entfernen)",
      "metadata": {}
    },
    {
      "id": "ad6bcc69-53c8-4715-8901-de6c51cbd0a5",
      "cell_type": "code",
      "source": "def ac_rms(x):\n    \"\"\"AC-RMS nach Entfernen des DC-Anteils; gibt (rms, x_ac) zurück.\"\"\"\n    x_ac = x - np.mean(x)\n    return np.sqrt(np.mean(x_ac * x_ac)), x_ac",
      "metadata": {
        "trusted": true
      },
      "outputs": [],
      "execution_count": null
    },
    {
      "id": "0adeb90d-53b8-44a7-98e9-0edbeff4a6b2",
      "cell_type": "markdown",
      "source": "**Funktionsprinzip:**\n- **DC-Entfernung**: Subtrahiert den Mittelwert vom Signal\n- **RMS-Berechnung**: √(1/N · Σ(x_ac²)) für Effektivwert-Bestimmung\n- **Warum wichtig?**: Filter können DC-Offset haben → verfälscht Verstärkungsberechnung\n\n### 2.2 Lock-In Phasenmessung (I/Q-Demodulation)",
      "metadata": {}
    },
    {
      "id": "8703b437-72f9-483e-9c85-30d1a9d0009a",
      "cell_type": "code",
      "source": "def lockin_phase_deg(signal_ac, fs, f_hz):\n    \"\"\"\n    Phase bei f_hz mittels Lock-In (I/Q).\n    Gibt Phase in Grad im Bereich (-180, 180] zurück.\n    \"\"\"\n    N = len(signal_ac)\n    t = np.arange(N) / fs\n    c = np.cos(2*np.pi*f_hz*t)\n    s = np.sin(2*np.pi*f_hz*t)\n    # Minus beim Sinus entspricht exp(-jωt)\n    I = (2.0/N) * np.dot(signal_ac, c)\n    Q = (2.0/N) * np.dot(signal_ac, -s)\n    phase = np.degrees(np.arctan2(Q, I))\n    return (phase + 180.0) % 360.0 - 180.0",
      "metadata": {
        "trusted": true
      },
      "outputs": [],
      "execution_count": null
    },
    {
      "id": "70c59ebb-1683-4d9a-a4a9-8183e75bcd10",
      "cell_type": "markdown",
      "source": "**Lock-In Prinzip:**\n- **I-Komponente**: Korrelation mit cos(2πft) → In-Phase Anteil\n- **Q-Komponente**: Korrelation mit sin(2πft) → Quadratur-Phase Anteil  \n- **Phasenberechnung**: φ = arctan2(Q, I) → robuste Phasenbestimmung\n- **Vorteil**: Funktioniert auch bei verrauschten Signalen und Oberwellen\n\n### 2.3 Phasen-Normalisierung\n",
      "metadata": {}
    },
    {
      "id": "070ac675-ab0c-451c-a6d0-c716becd9fb8",
      "cell_type": "code",
      "source": "def wrap_deg(x):\n    \"\"\"Auf (-180, 180] wickeln.\"\"\"\n    return (x + 180.0) % 360.0 - 180.0",
      "metadata": {
        "trusted": true
      },
      "outputs": [],
      "execution_count": null
    },
    {
      "id": "e474e37f-b12a-41c0-8656-0d1515cbc5ea",
      "cell_type": "markdown",
      "source": "**Warum Phasen-Wrapping?**\n- Phasen sind zyklisch: 180° = -180° = 540°\n- Kontinuierliche Darstellung für Bode-Diagramme\n- Vermeidet Sprünge von +180° auf -180°\n\n---\n\n## 3. Messparameter-Konfiguration\n\n### 3.1 Benutzer-Eingaben",
      "metadata": {}
    },
    {
      "id": "ed951419-c6fc-4d1c-af4c-bff261ecdfc6",
      "cell_type": "code",
      "source": "tart_freq = float(input(\"Startfrequenz (Hz): \"))\nstop_freq  = float(input(\"Stoppfrequenz (Hz): \"))\nsteps      = int(input(\"Anzahl Zwischenschritte: \"))\namplitude  = float(input(\"Amplitude (Vpp): \"))\nprint(f\"Frequenzbereich: {start_freq:.0f} Hz bis {stop_freq:.0f} Hz\")\n\nfrequencies = np.linspace(start_freq, stop_freq, steps)",
      "metadata": {
        "trusted": true
      },
      "outputs": [],
      "execution_count": null
    },
    {
      "id": "2bcd7e35-1259-40a9-8a2f-d0d261f49f99",
      "cell_type": "markdown",
      "source": "**Parameter-Bedeutung:**\n- **Frequenzbereich**: Bestimmt den zu untersuchenden Bereich (z.B. 10 Hz - 100 kHz)\n- **Schrittanzahl**: Auflösung der Kennlinie (typisch 50-200 Punkte)\n- **Amplitude**: Eingangspegel des Funktionsgenerators (konstant für alle Frequenzen)\n- **np.linspace**: Erstellt logarithmisch oder linear verteilte Frequenzstützstellen\n\n---\n\n## 4. MCC118 Hardware-Konfiguration\n\n### 4.1 Grundkonfiguration",
      "metadata": {}
    },
    {
      "id": "e6eb6aad-ed7b-47fb-b54d-8194fa574423",
      "cell_type": "code",
      "source": "address = 0\nhat = mcc118(address)\n\n# ACHTUNG: Reihenfolge definiert Interleaving!\nchannels = [6, 7]                  # 6 = In, 7 = Out\nchannel_mask = sum(1 << ch for ch in channels)",
      "metadata": {
        "trusted": true
      },
      "outputs": [],
      "execution_count": null
    },
    {
      "id": "accd9b94-1892-4ecf-a2b2-228cecf411d4",
      "cell_type": "markdown",
      "source": "**Kanal-Setup:**\n- **address = 0**: Erste MCC118 HAT-Karte\n- **channels = [6, 7]**: Simultane Messung Eingang/Ausgang\n- **channel_mask**: Bitmaske für Kanal-Aktivierung (Bit 6 + Bit 7)\n\n### 4.2 Timing und Sampling-Parameter",
      "metadata": {}
    },
    {
      "id": "188612b5-0755-44e0-b968-7d259f37cdeb",
      "cell_type": "code",
      "source": "fs = 50_000.0                      # Sample-Rate (pro Kanal-Scan)\nperiods = 10                       # ~10 Perioden je Frequenz\nmin_samples = 2048                 # Minimum je Kanal für stabile Werte\nscan_options = OptionFlags.DEFAULT",
      "metadata": {
        "trusted": true
      },
      "outputs": [],
      "execution_count": null
    },
    {
      "id": "ac4680df-3964-4d42-98e5-de7548532643",
      "cell_type": "markdown",
      "source": "**Parameter-Erklärung:**\n- **fs = 50 kHz**: Abtastrate pro Kanal → Nyquist-Limit bei 25 kHz\n- **periods = 10**: Mittlung über mehrere Perioden → reduziert Messrauschen\n- **min_samples = 2048**: Mindest-Sampelanzahl für FFT-Auflösung\n- **scan_options**: Standard-Konfiguration ohne spezielle Optionen\n\n### 4.3 Multiplexer-Delay Kompensation",
      "metadata": {}
    },
    {
      "id": "daf21e4f-41b6-470e-881d-738550577691",
      "cell_type": "code",
      "source": "# Ermitteln der Positionen von In/Out im Scan-Zyklus (0-basiert)\nscan_order = sorted(channels)      # MCC118 scannt aufsteigend\npos = {ch: scan_order.index(ch) for ch in channels}\n# Zeitversatz zwischen den beiden Kanälen (in Sekunden):\n#delta_samples = pos[7] - pos[6]    # >0: Ausgang wird nach Eingang gesampelt\n#dt = delta_samples / fs            # hier bei [6,7]: dt = 1/fs = 20 µs\ndt = 0.000008                       # 8µs (aus Datenblatt)",
      "metadata": {
        "trusted": true
      },
      "outputs": [],
      "execution_count": null
    },
    {
      "id": "4f98d22e-3b24-4a38-a0d6-adb1ea732f5d",
      "cell_type": "markdown",
      "source": "*Warum Multiplexer-Delay wichtig?**\n- **Sequentielles Abtasten**: MCC118 misst Kanäle nacheinander, nicht simultran\n- **Zeitversatz**: Kanal 7 wird 8µs nach Kanal 6 gemessen\n- **Phasenfehler**: Δφ = 360° · f · Δt → bei 10 kHz bereits 28.8° Fehler!\n- **Korrektur nötig**: Für präzise Phasenmessungen essentiell\n\n---\n\n## 5. Datenstrukturen für Messergebnisse",
      "metadata": {}
    },
    {
      "id": "58b24f6b-7d38-46f7-83b1-85ea5bbdb114",
      "cell_type": "code",
      "source": "gain_db_list   = []\nphase_deg_list = []\nrms_in_list    = []\nrms_out_list   = []",
      "metadata": {
        "trusted": true
      },
      "outputs": [],
      "execution_count": null
    },
    {
      "id": "177aa5d7-4ebd-48c0-a7ea-49ccfb98556b",
      "cell_type": "markdown",
      "source": "**Listen-Zweck:**\n- **gain_db_list**: Verstärkung in dB für jede Frequenz\n- **phase_deg_list**: Korrigierte Phasendifferenz in Grad\n- **rms_in_list**: RMS-Werte des Eingangssignals\n- **rms_out_list**: RMS-Werte des Ausgangssignals\n\n---\n\n## 6. Hauptmess-Schleife - Automatisierte Frequenzgang-Aufnahme\n\n### 6.1 Messschleife initialisieren",
      "metadata": {}
    },
    {
      "id": "5b33de4d-5d4b-4c67-a27a-f63d96283087",
      "cell_type": "code",
      "source": "print(\"\\n>>> Messe Frequenzgang...\\n\")\n\nfor f in frequencies:\n    input(f\"Stelle Funktionsgenerator auf {f:.2f} Hz, {amplitude} Vpp, sinus\\nDrücke [Enter] wenn bereit...\")",
      "metadata": {
        "trusted": true
      },
      "outputs": [],
      "execution_count": null
    },
    {
      "id": "e0684866-2f1e-449b-ad51-7c677d54f331",
      "cell_type": "markdown",
      "source": "**Semi-automatische Messung:**\n- **Manuelle Frequenzeinstellung**: Benutzer stellt Funktionsgenerator ein\n- **Automatische Datenerfassung**: MCC118 übernimmt Messung und Auswertung\n- **Warum semi-automatisch?**: Einfache Funktionsgeneratoren haben keine Fernsteuerung\n\n### 6.2 Adaptive Sampling-Berechnung",
      "metadata": {}
    },
    {
      "id": "74a12da8-e7e0-4eaa-9b23-119bec18082e",
      "cell_type": "code",
      "source": "# genügend Samples: mindestens min_samples, sonst ~periods Perioden\n    samples_per_channel = int(max(min_samples, round(fs * periods / f)))",
      "metadata": {
        "trusted": true
      },
      "outputs": [],
      "execution_count": null
    },
    {
      "id": "14ea6301-4b23-4805-9d99-1ffc0e58b008",
      "cell_type": "markdown",
      "source": "**Adaptive Abtastung:**\n- **Niedrige Frequenzen**: Mehr Samples für gleiche Anzahl Perioden\n- **Hohe Frequenzen**: min_samples für ausreichende FFT-Auflösung\n- **Beispiel**: Bei 1 Hz → 500.000 Samples, bei 10 kHz → 2048 Samples\n\n### 6.3 Datenerfassung",
      "metadata": {}
    },
    {
      "id": "e7b09cfc-726f-45f3-b44c-42c9446c8b7c",
      "cell_type": "code",
      "source": "# Scan\n    hat.a_in_scan_start(channel_mask, samples_per_channel, fs, scan_options)\n    result = hat.a_in_scan_read_numpy(samples_per_channel, timeout=5.0)\n    hat.a_in_scan_stop()\n    hat.a_in_scan_cleanup()",
      "metadata": {
        "trusted": true
      },
      "outputs": [],
      "execution_count": null
    },
    {
      "id": "d08e4e33-bc02-44a1-9455-85f06aeb7042",
      "cell_type": "markdown",
      "source": "**MCC118 Scan-Prozess:**\n- **a_in_scan_start**: Startet kontinuierliche Abtastung beider Kanäle\n- **a_in_scan_read_numpy**: Liest Daten als NumPy-Array (effizient)\n- **a_in_scan_stop**: Stoppt Abtastung\n- **a_in_scan_cleanup**: Gibt Hardware-Ressourcen frei\n\n### 6.4 Daten-Deinterleaving",
      "metadata": {}
    },
    {
      "id": "a89745bf-51a7-4fc2-bab2-5f73590de00e",
      "cell_type": "code",
      "source": "# Interleaved: Kanäle in aufsteigender Reihenfolge -> 6, 7, 6, 7, ...\n    data = result.data\n    # Index 0 gehört zum kleinsten Kanal in channel_mask\n    # Finde Offsets für ch6 & ch7 im Interleave\n    offset_ch6 = scan_order.index(6)\n    offset_ch7 = scan_order.index(7)\n\n    in_sig  = data[offset_ch6::len(scan_order)]  # Kanal 6\n    out_sig = data[offset_ch7::len(scan_order)]  # Kanal 7",
      "metadata": {
        "trusted": true
      },
      "outputs": [],
      "execution_count": null
    },
    {
      "id": "deb5aa8d-a7f8-4879-8d88-db79f9d89739",
      "cell_type": "markdown",
      "source": "**Interleaved-Datenformat:**\n- **MCC118 Format**: [Ch6_0, Ch7_0, Ch6_1, Ch7_1, Ch6_2, Ch7_2, ...]\n- **Deinterleaving**: Trennung in separate Kanal-Arrays\n- **Python-Slicing**: [start::step] extrahiert jeden n-ten Wert\n\n### 6.5 Signalanalyse und Berechnungen",
      "metadata": {}
    },
    {
      "id": "104279e7-04cd-4380-839a-156261142c31",
      "cell_type": "code",
      "source": "# AC-RMS\n    rms_in,  in_ac  = ac_rms(in_sig)\n    rms_out, out_ac = ac_rms(out_sig)\n\n    # Gain dB (korrekt aus AC-RMS)\n    eps = 1e-15\n    gain_db = 20.0 * np.log10((rms_out + eps) / (rms_in + eps))",
      "metadata": {
        "trusted": true
      },
      "outputs": [],
      "execution_count": null
    },
    {
      "id": "9c727238-337a-4301-8751-3c68734042e0",
      "cell_type": "markdown",
      "source": "**Verstärkungsberechnung:**\n- **AC-RMS**: Entfernt DC-Offset für korrekte Messung\n- **dB-Formel**: 20·log₁₀(V_out/V_in) für Spannungsverstärkung\n- **eps-Term**: Verhindert Division durch Null bei sehr kleinen Signalen\n\n### 6.6 Phasenmessung und Korrektur",
      "metadata": {}
    },
    {
      "id": "7ec66038-1c66-4f1c-bf8c-1c6126cbbe75",
      "cell_type": "code",
      "source": "# Phase (roh) via Lock-In\n    phi_in  = lockin_phase_deg(in_ac,  fs, f)\n    phi_out = lockin_phase_deg(out_ac, fs, f)\n    phi_raw = wrap_deg(phi_out - phi_in)\n\n    # Korrektur für Kanal-Scan-Verzögerung (Multiplexer Delay)\n    # Ausgang wird dt Sekunden NACH Eingang gemessen -> zusätzliche scheinbare \"Lag\"-Phase:\n    # phi_delay = +360° * f * dt (addieren, um die künstliche Verzögerung zu kompensieren)\n    phi_delay = 360.0 * f * dt\n    phi_corr  = wrap_deg(phi_raw - phi_delay)",
      "metadata": {
        "trusted": true
      },
      "outputs": [],
      "execution_count": null
    },
    {
      "id": "a08958e6-0724-449f-a664-71b8282bd43b",
      "cell_type": "markdown",
      "source": "**Phasenkorrektur-Algorithmus:**\n- **Lock-In Messung**: Bestimmt absolute Phase jedes Kanals\n- **Rohe Phasendifferenz**: φ_raw = φ_out - φ_in\n- **Delay-Korrektur**: φ_delay = 360° · f · 8µs\n- **Korrigierte Phase**: φ_corr = φ_raw - φ_delay\n\n### 6.7 Ergebnis-Ausgabe und Speicherung",
      "metadata": {}
    },
    {
      "id": "4fe1a052-ffd1-495c-bca5-c9e63f884c28",
      "cell_type": "code",
      "source": "print(f\"  → Effektivwert Eingang: {rms_in:.4f} V\")\n    print(f\"  → Effektivwert Ausgang: {rms_out:.4f} V\")\n    print(f\"  → Verstärkung: {gain_db:.2f} dB\")\n    print(f\"  → Phase roh: {phi_raw:.2f}°, Delay-Korrektur: {phi_delay:.2f}°,  Phase korr.: {phi_corr:.2f}°\\n\")\n\n    gain_db_list.append(gain_db)\n    phase_deg_list.append(phi_corr)   # geplottet wird die korrigierte Phase\n    rms_in_list.append(rms_in)\n    rms_out_list.append(rms_out)\n",
      "metadata": {
        "trusted": true
      },
      "outputs": [],
      "execution_count": null
    },
    {
      "id": "90f4f957-2697-4f91-96a2-0e3da519e45f",
      "cell_type": "markdown",
      "source": "**Live-Feedback:**\n- **Sofortige Anzeige**: Kontrolle der Messwerte während der Aufnahme\n- **Delay-Visualisierung**: Zeigt Korrektur-Algorithmus\n- **Daten-Sammlung**: Aufbau der kompletten Kennlinie\n\n---\n\n## 7. Datenvisualisierung - Bode-Diagramm\n\n### 7.1 Drei-Plot Layout erstellen",
      "metadata": {}
    },
    {
      "id": "ef6f8349-7eb5-4926-9463-ee59f29593a9",
      "cell_type": "code",
      "source": "plt.figure(figsize=(10, 8))",
      "metadata": {
        "trusted": true
      },
      "outputs": [],
      "execution_count": null
    },
    {
      "id": "0ebac946-1975-40c5-9ccc-d2ebce1e1a54",
      "cell_type": "markdown",
      "source": "**Plot-Struktur:**\n- **Subplot 1**: Amplitudengang (Gain in dB)\n- **Subplot 2**: Phasengang (Phase in Grad)\n- **Subplot 3**: RMS-Werte (Eingangspegel-Kontrolle)\n\n### 7.2 Amplitudengang (Gain-Plot)",
      "metadata": {}
    },
    {
      "id": "78e1ae35-790b-4f5f-b435-84b7c1dfc703",
      "cell_type": "code",
      "source": "# 1) Gain (dB)\nplt.subplot(3, 1, 1)\nplt.semilogx(frequencies, gain_db_list, marker='o')\nplt.ylabel(\"Verstärkung (dB)\")\nplt.title(\"Frequenzgang (Kanal 6 → Kanal 7)\")\nplt.grid(True, which='both', ls='--', alpha=0.5)",
      "metadata": {
        "trusted": true
      },
      "outputs": [],
      "execution_count": null
    },
    {
      "id": "e9310dca-7298-4a2e-8f5f-5ab5bf6c6a84",
      "cell_type": "markdown",
      "source": "**Amplitudengang-Eigenschaften:**\n- **Logarithmische X-Achse**: Frequenz über mehrere Dekaden darstellbar\n- **dB-Skala**: Standard für Verstärkungsangaben (-3dB = halbe Leistung)\n- **Grid**: Erleichtert Ablesen von Grenzfrequenzen und Verstärkungen\n\n### 7.3 Phasengang (Phase-Plot)",
      "metadata": {}
    },
    {
      "id": "18338fce-928e-4d9c-9ffe-a54d8ea87e2c",
      "cell_type": "code",
      "source": " 2) Phase (°), korrigiert\nplt.subplot(3, 1, 2)\nplt.semilogx(frequencies, phase_deg_list, marker='x')\nplt.ylabel(\"Phasendifferenz (°)\")\nplt.grid(True, which='both', ls='--', alpha=0.5)",
      "metadata": {
        "trusted": true
      },
      "outputs": [],
      "execution_count": null
    },
    {
      "id": "8a58dcc2-4aba-4a63-ab5b-10f28bed6c45",
      "cell_type": "markdown",
      "source": "**Phasengang-Interpretation:**\n- **0°**: Eingang und Ausgang in Phase\n- **-90°**: Ausgang eilt Eingang um 90° nach (typisch für Tiefpass)\n- **+90°**: Ausgang eilt Eingang um 90° voraus (typisch für Hochpass)\n- **±180°**: Phasenumkehr (Invertierung)\n\n### 7.4 RMS-Monitoring",
      "metadata": {}
    },
    {
      "id": "65437f14-c28d-449c-a7de-8d21b44e2c17",
      "cell_type": "code",
      "source": "# 3) Vrms In/Out\nplt.subplot(3, 1, 3)\nplt.semilogx(frequencies, rms_in_list,  marker='o', label=\"Eingang Vrms (Ch6)\")\nplt.semilogx(frequencies, rms_out_list, marker='s', label=\"Ausgang Vrms (Ch7)\")\nplt.xlabel(\"Frequenz (Hz)\")\nplt.ylabel(\"Effektivwert (V)\")\nplt.legend()\nplt.grid(True, which='both', ls='--', alpha=0.5)\n\nplt.tight_layout()\nplt.show()",
      "metadata": {
        "trusted": true
      },
      "outputs": [],
      "execution_count": null
    },
    {
      "id": "b51d2092-c482-49ce-a1a5-e7210c44e7d0",
      "cell_type": "markdown",
      "source": "**RMS-Plot Bedeutung:**\n- **Eingangskonstanz prüfen**: Funktionsgenerator-Pegel über Frequenz\n- **Ausgangsverhalten**: Zeigt Filter-Dämpfung direkt in Volt\n- **Qualitätskontrolle**: Erkennung von Messfehlern und Übersteuerung\n\n---\n\n## 8. Zusammenfassung und Anwendung\n\n### 8.1 Erreichte Messgenauigkeit\n\n**Technische Spezifikationen:**\n- **Amplitudenauflösung**: ±0.1 dB durch AC-RMS Messung\n- **Phasengenauigkeit**: ±1° durch Lock-In und Delay-Korrektur\n- **Frequenzbereich**: 1 Hz - 25 kHz (begrenzt durch 50 kHz Abtastrate)\n- **Dynamikbereich**: >80 dB durch 16-Bit ADC\n\n### 8.2 Typische Filterkennlinien\n\n**Filtertyp-Erkennung aus Bode-Diagramm:**\n- **Tiefpass**: Abfall bei hohen Frequenzen, Phase → -90°/Pol\n- **Hochpass**: Abfall bei niedrigen Frequenzen, Phase → +90°/Pol  \n- **Bandpass**: Maximum bei Mittenfrequenz, ±90° Phasenverlauf\n- **Bandsperre**: Minimum bei Sperrfrequenz, 180° Phasensprung\n\n### 8.3 Anwendungsgebiete\n\n- **Filter-Design**: Verifikation berechneter Übertragungsfunktionen\n- **Verstärker-Charakterisierung**: Bandbreite und Stabilität\n- **Qualitätskontrolle**: Serienprüfung elektronischer Baugruppen\n- **Forschung**: Charakterisierung neuer Schaltungskonzepte\n\n### 8.4 Messtechnische Besonderheiten\n\n**Warum diese Methode überlegen?**\n- **Simultane Messung**: Eliminiert Drift-Einflüsse\n- **AC-RMS Verfahren**: Unabhängig von DC-Offsets\n- **Lock-In Technik**: Robust gegen Störungen und Harmonische\n- **Delay-Korrektur**: Präzise Phasenmessung trotz Multiplexer\n\nDas System stellt eine professionelle Lösung zur automatisierten Netzwerkanalyse dar!",
      "metadata": {}
    }
  ]
}