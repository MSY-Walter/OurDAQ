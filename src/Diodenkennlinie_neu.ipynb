{
  "metadata": {
    "kernelspec": {
      "name": "xpython",
      "display_name": "Python 3.13 (XPython)",
      "language": "python"
    },
    "language_info": {
      "file_extension": ".py",
      "mimetype": "text/x-python",
      "name": "python",
      "version": "3.13.1"
    }
  },
  "nbformat_minor": 5,
  "nbformat": 4,
  "cells": [
    {
      "id": "5b29b88b-3e2b-4be2-bbee-32b80670a16f",
      "cell_type": "markdown",
      "source": "# Diodenkennlinie Messung - Automatisierte Charakterisierung von Halbleiterdioden\n\n## Einführung\n\nDieses Jupyter Notebook dokumentiert die automatisierte Messung der Kennlinie einer Halbleiterdiode. Die Diodenkennlinie zeigt den charakteristischen exponentiellen Zusammenhang zwischen Spannung und Strom in Durchlassrichtung und ist fundamental für das Verständnis von Halbleiterbauelementen.\n\n### Theoretischer Hintergrund\nDas Ziel ist die Messung der Strom-Spannungs-Kennlinie einer Diode, um eine einfache U-I-Kennlinie (U-I-Diagramm) aufzunehmen und darzustellen. Die Messung erfolgt durch schrittweises Anlegen einer Spannung (via DAC) und Messen des Stroms (via MCC118 und Shunt-Widerstand).\n### Messmethodik\n\nWir verwenden eine **indirekte Strommessung** über einen Serienwiderstand:\n- Spannungsquelle (DAC) → Serienwiderstand → Diode → Masse\n- Strom berechnet nach: **I = (U_gesamt - U_diode) / R_serie**\n\n---\n\n## 1. Import der benötigten Bibliotheken\n\nDie folgenden Bibliotheken werden für verschiedene Aspekte der Messung benötigt:",
      "metadata": {}
    },
    {
      "id": "d816fed0-4bf2-48e4-a8d5-8c5fdf97ea75",
      "cell_type": "code",
      "source": "from __future__ import print_function\nimport spidev          #SPI-Kommunikation mit DAC\nimport time            # Verzögerungen für Stabilisierung\nimport lgpio           # GPIO-Steuerung (moderne Alternative zu RPi.GPIO)\nimport matplotlib.pyplot as plt  # Visualisierung der Messergebnisse\nfrom daqhats import mcc118, HatIDs  # MCC118 Datenerfassungssystem\nfrom daqhats_utils import select_hat_device  # HAT-Geräte-Auswahl",
      "metadata": {
        "trusted": true
      },
      "outputs": [],
      "execution_count": null
    },
    {
      "id": "84b72900-34f0-4d6a-9aea-8f46b8387322",
      "cell_type": "markdown",
      "source": "### Bibliotheken-Übersicht:\n- **spidev**: Ermöglicht SPI-Kommunikation mit dem Digital-Analog-Converter (DAC)\n- **lgpio**: Moderne GPIO-Bibliothek für Chip Select Signal\n- **daqhats**: Interface zum MCC118 für präzise Spannungsmessungen\n- **matplotlib**: Erstellt die grafische Darstellung der Kennlinie\n\n---\n\n## 2. Systemkonfiguration und Hardware-Initialisierung\n\n### 2.1 Konstanten und Parameter definieren",
      "metadata": {}
    },
    {
      "id": "5792a01e-3b00-4468-b45e-1d575a5e94ce",
      "cell_type": "code",
      "source": "CS_PIN = 22              # Chip Select Pin für SPI-DAC\nMAX_DAC_VALUE = 4095     # 12-Bit DAC: 2^12 - 1 = 4095\n\n# Globale Variable für GPIO-Handle\ngpio_handle = None",
      "metadata": {
        "trusted": true
      },
      "outputs": [],
      "execution_count": null
    },
    {
      "id": "819248b5-dba3-42e2-aaba-2da82f555a39",
      "cell_type": "markdown",
      "source": "**Erklärung der Konstanten:**\n- **CS_PIN (22)**: GPIO-Pin für das Chip Select Signal des DAC\n- **MAX_DAC_VALUE (4095)**: Maximaler digitaler Wert für 12-Bit DAC (entspricht maximaler Ausgangsspannung)\n\n### 2.2 SPI-Interface Konfiguration",
      "metadata": {}
    },
    {
      "id": "2faccd56-509d-4c0f-808d-673722f4917c",
      "cell_type": "code",
      "source": "# SPI-Schnittstelle für DAC-Kommunikation einrichten\nspi = spidev.SpiDev()\nspi.open(0, 0)              # SPI Bus 0, Device 0\nspi.max_speed_hz = 1000000  # 1 MHz Übertragungsgeschwindigkeit\nspi.mode = 0b00             # SPI Mode 0: CPOL=0, CPHA=0",
      "metadata": {
        "trusted": true
      },
      "outputs": [],
      "execution_count": null
    },
    {
      "id": "2d31fc02-8931-4296-b22a-29cf55321dc3",
      "cell_type": "markdown",
      "source": "**SPI-Parameter Erklärung:**\n- **Bus 0, Device 0**: Erste SPI-Schnittstelle des Raspberry Pi\n- **1 MHz**: Ausreichend schnell für DAC, aber stabil\n- **Mode 0**: Clock Polarität und Phase für DAC-Kompatibilität\n\n### 2.3 GPIO-Initialisierung",
      "metadata": {}
    },
    {
      "id": "6337665b-9508-4d12-8a8c-ea93c3fe3a49",
      "cell_type": "code",
      "source": "# GPIO Setup mit lgpio (moderne, robuste GPIO-Bibliothek)\ngpio_handle = lgpio.gpiochip_open(0)\nif gpio_handle < 0:\n    raise Exception(\"Fehler beim Öffnen des GPIO Chips\")\n\n# CS Pin als Ausgang konfigurieren\nret = lgpio.gpio_claim_output(gpio_handle, CS_PIN, lgpio.SET_PULL_NONE)\nif ret < 0:\n    raise Exception(f\"Fehler beim Konfigurieren von GPIO Pin {CS_PIN}\")\n\n# CS Pin auf HIGH setzen (DAC nicht ausgewählt)\nlgpio.gpio_write(gpio_handle, CS_PIN, 1)",
      "metadata": {
        "trusted": true
      },
      "outputs": [],
      "execution_count": null
    },
    {
      "id": "528b5c5e-6653-40ae-bc2b-c06732141124",
      "cell_type": "markdown",
      "source": "**Warum lgpio statt RPi.GPIO?**\n- Moderne, aktiv weiterentwickelte Bibliothek\n- Bessere Fehlerbehandlung und Ressourcenverwaltung\n- Kompatibel mit aktuellen Raspberry Pi OS Versionen\n\n---\n\n## 3. Funktionen für DAC-Steuerung und System-Management\n\n### 3.1 DAC-Wert schreiben (write_dac)\n\nDiese Funktion konvertiert einen digitalen Wert in eine entsprechende Ausgangsspannung:",
      "metadata": {}
    },
    {
      "id": "db1f31d1-6b19-448a-a2a7-7cedb2096d5d",
      "cell_type": "code",
      "source": "def write_dac(value):\n    \"\"\"DAC-Wert schreiben\"\"\"\n    global gpio_handle\n    assert 0 <= value <= MAX_DAC_VALUE\n    control = 0\n    control |= 0 << 15\n    control |= 1 << 14\n    control |= 0 << 13\n    control |= 1 << 12\n    data = control | (value & 0xFFF)\n    high_byte = (data >> 8) & 0xFF\n    low_byte = data & 0xFF\n    lgpio.gpio_write(gpio_handle, CS_PIN, 0)\n    spi.xfer2([high_byte, low_byte])\n    lgpio.gpio_write(gpio_handle, CS_PIN, 1)",
      "metadata": {
        "trusted": true
      },
      "outputs": [],
      "execution_count": null
    },
    {
      "id": "52617d82-1bef-4a04-99d5-0bd9515a0b82",
      "cell_type": "markdown",
      "source": "**Funktionsweise der DAC-Steuerung:**\n- **Wertebereich prüfen**: Sicherstellen dass der Wert zwischen 0 und 4095 liegt\n- **Kontrollbits setzen**: Die Bits 15-12 konfigurieren den DAC-Betrieb (Buffer, Gain, Shutdown, Channel)\n- **Datenwort erstellen**: Kombination aus Kontrollbits und 12-Bit Wert\n- **SPI-Übertragung**: Chip Select auf LOW → Daten senden → Chip Select auf HIGH\n\n### 3.2 System-Cleanup Funktion\n\nSicheres Herunterfahren aller Hardware-Ressourcen:",
      "metadata": {}
    },
    {
      "id": "7d5e471f-3583-4dbb-95cc-f95149bca0fb",
      "cell_type": "code",
      "source": "def cleanup_gpio():\n    \"\"\"GPIO-Cleanup\"\"\"\n    global gpio_handle\n    try:\n        write_dac(0)\n    except:\n        pass\n    try:\n        if gpio_handle is not None:\n            lgpio.gpio_free(gpio_handle, CS_PIN)\n            lgpio.gpiochip_close(gpio_handle)\n            gpio_handle = None\n        spi.close()\n        print(\"GPIO-Cleanup abgeschlossen\")\n    except Exception as e:\n        print(f\"Cleanup-Fehler: {e}\")",
      "metadata": {
        "trusted": true
      },
      "outputs": [],
      "execution_count": null
    },
    {
      "id": "ebda03f9-ce44-46d6-bcbf-a96f2e66e782",
      "cell_type": "markdown",
      "source": "**Warum ist Cleanup wichtig?**\n- **DAC auf 0V setzen**: Sicherheit für nachfolgende Messungen\n- **GPIO freigeben**: Verhindert Hardware-Locks beim nächsten Start\n- **SPI schließen**: Gibt Systemressourcen frei\n\n---\n\n## 4. Hauptmessprogramm - Automatisierte Kennlinienaufnahme\n\n### 4.1 Messsystem-Initialisierung und Kalibrierung",
      "metadata": {}
    },
    {
      "id": "ae86d766-6d65-4fa9-a8fe-ba1b63bc3002",
      "cell_type": "code",
      "source": "def main():\n    print(\"### Diodenkennlinie Messung ###\\n\")\n    \n    try:\n        # MCC118 Verbindung\n        address = select_hat_device(HatIDs.MCC_118)\n        hat = mcc118(address)\n        print(f\"MCC 118 Gerät an Adresse {address} verbunden.\")",
      "metadata": {
        "trusted": true
      },
      "outputs": [],
      "execution_count": null
    },
    {
      "id": "2a52b1f9-2e56-4259-b88a-e44c5628c728",
      "cell_type": "markdown",
      "source": "**MCC118 Initialisierung:**\n- **select_hat_device**: Automatische Erkennung des MCC118 HAT\n- **mcc118(address)**: Erstellt Verbindung zum Messgerät\n- Das MCC118 bietet 8 Analogeingänge mit 16-Bit Auflösung\n### 4.2 System-Kalibrierung",
      "metadata": {}
    },
    {
      "id": "07f9a972-0394-4a8d-b15f-b984e3e61a1b",
      "cell_type": "code",
      "source": "python\n        # Kalibrierung maximale DAC-Spannung\n        print(\"Kalibriere maximale DAC-Spannung an Kanal 7...\")\n        write_dac(MAX_DAC_VALUE)\n        time.sleep(0.5)\n        gemessene_max_spannung = hat.a_in_read(7)\n        write_dac(0)\n        print(f\"Gemessene maximale Spannung (Referenz): {gemessene_max_spannung:.4f} V\")",
      "metadata": {
        "trusted": true
      },
      "outputs": [],
      "execution_count": null
    },
    {
      "id": "7fb7c4d6-fb81-4346-b0ee-63154c2b49ec",
      "cell_type": "markdown",
      "source": "**Warum Kalibrierung notwendig?**\n- **Hardware-Toleranzen**: DAC-Referenzspannung kann von nominellen 5V abweichen\n- **Automatische Anpassung**: Alle weiteren Berechnungen basieren auf der tatsächlich gemessenen Maximalspannung\n- **Messgenauigkeit**: Eliminiert systematische Fehler\n\n### 4.3 Benutzer-Parameter erfassen",
      "metadata": {}
    },
    {
      "id": "b192a664-f020-4576-b565-5a6e4aefd929",
      "cell_type": "code",
      "source": " r_serie = float(input(\"Wert des Serienwiderstands in Ohm: \"))\n        anzahl_punkte = int(input(\"Anzahl der Spannungspunkte: \"))\n\n        spannung_max = float(input(f\"Maximale Spannung in V (max {gemessene_max_spannung:.2f} V): \"))\n        if spannung_max > gemessene_max_spannung:\n            print(f\"Begrenze auf {gemessene_max_spannung:.2f} V.\")\n            spannung_max = gemessene_max_spannung",
      "metadata": {
        "trusted": true
      },
      "outputs": [],
      "execution_count": null
    },
    {
      "id": "98ba21eb-d09c-43f1-bc4f-dbb9767a1440",
      "cell_type": "markdown",
      "source": "**Parameter-Bedeutung:**\n- **r_serie**: Serienwiderstand zur Strommessung (typisch 100Ω - 10kΩ)\n- **anzahl_punkte**: Mehr Punkte = höhere Auflösung, aber längere Messzeit\n- **spannung_max**: Maximaler Spannungsbereich, begrenzt durch Hardware\n\n### 4.4 DAC-Berechnung und Datenstrukturen",
      "metadata": {}
    },
    {
      "id": "1c8b9a9b-3557-4872-bcd7-a54a4e13a6ec",
      "cell_type": "code",
      "source": "# DAC-Wert, der genau spannung_max liefert\n        dac_max_wert = int(MAX_DAC_VALUE * spannung_max / gemessene_max_spannung)\n\n        # Listen für Messwerte\n        eingestellte_spannungen = []\n        diodenspannungen = []\n        stroeme = []",
      "metadata": {
        "trusted": true
      },
      "outputs": [],
      "execution_count": null
    },
    {
      "id": "c7e194e3-3dad-4151-8fbe-7c5cbd085f75",
      "cell_type": "markdown",
      "source": "**Berechnungslogik:**\n- **dac_max_wert**: Umrechnung der gewünschten Maximalspannung in DAC-Stufen\n- **Listen**: Separate Arrays für Sollwerte, Messwerte und berechnete Ströme\n\n### 4.5 Automatisierte Messschleife",
      "metadata": {}
    },
    {
      "id": "decef22c-5849-4735-a617-c09892ad5577",
      "cell_type": "code",
      "source": "print(\"\\nMessung läuft...\\n\")\n\n        for i in range(anzahl_punkte):\n            # DAC linear von 0 bis dac_max_wert verteilen\n            dac_value = int(i * dac_max_wert / (anzahl_punkte - 1))\n            #print(dac_value)\n            write_dac(dac_value)\n            #print(dac_value)\n            time.sleep(2.0)\n\n            spannung_diode = hat.a_in_read(6)\n            spannung_gesamt = hat.a_in_read(7)\n            strom = ((spannung_gesamt - spannung_diode) / r_serie) * 1000  # mA\n\n            # Geplante Spannung für Plot (0 bis spannung_max)\n            spannung_dac = spannung_max * i / (anzahl_punkte - 1)\n            print(spannung_dac)\n\n            eingestellte_spannungen.append(spannung_dac)\n            diodenspannungen.append(spannung_diode)\n            stroeme.append(strom)\n\n            print(f\"Eingestellte Spannung: {spannung_dac:.3f} V | \"\n                  f\"Gemessene Spannung: {spannung_gesamt:.5f} V | \"\n                  f\"Diode: {spannung_diode:.5f} V | Strom: {strom:.3f} mA\")\n\n        write_dac(0)",
      "metadata": {
        "trusted": true
      },
      "outputs": [],
      "execution_count": null
    },
    {
      "id": "217bbea5-9b15-414c-bbeb-5978bc0acb1c",
      "cell_type": "markdown",
      "source": "**Messschleife-Erklärung:**\n- **Lineare Verteilung**: DAC-Werte werden gleichmäßig von 0 bis Maximum verteilt\n- **Stabilisierungszeit**: 2 Sekunden warten für elektrisches Einschwingen\n- **Zwei Messungen**: Kanal 6 (Diode) und Kanal 7 (Gesamt) für Stromberechnung\n- **Stromberechnung**: I = (U_gesamt - U_diode) / R_serie, Umrechnung in mA\n- **Live-Ausgabe**: Sofortige Anzeige der Messwerte zur Kontrolle\n\n### 4.6 Datenvisualisierung",
      "metadata": {}
    },
    {
      "id": "e693bdc1-1b98-46e5-b161-8ffd879f8a79",
      "cell_type": "code",
      "source": "# Diagramm erstellen\n        plt.figure(figsize=(12,5))\n\n        plt.subplot(1,2,1)\n        plt.plot(diodenspannungen, stroeme, marker='.')\n        plt.xlabel(\"Spannung über Diode (V)\")\n        plt.ylabel(\"Strom durch Diode (mA)\")\n        plt.title(\"Diodenkennlinie\")\n        plt.grid(True)\n\n        plt.subplot(1,2,2)\n        plt.plot(eingestellte_spannungen, stroeme, marker='.', color='orange')\n        plt.xlabel(\"Eingestellte Spannung (V)\")\n        plt.ylabel(\"Strom durch Diode (mA)\")\n        plt.title(\"Eingestellte Spannung vs. Strom\")\n        plt.xlim(0, spannung_max)\n        plt.grid(True)\n\n        plt.tight_layout()\n        plt.show()",
      "metadata": {
        "trusted": true
      },
      "outputs": [],
      "execution_count": null
    },
    {
      "id": "f7fd46f9-50af-4708-886a-3f7de5f19e6b",
      "cell_type": "markdown",
      "source": "**Zwei-Diagramm-Ansatz:**\n- **Linkes Diagramm**: Klassische I-U Diodenkennlinie (exponentieller Verlauf erwartet)\n- **Rechtes Diagramm**: Systemverhalten (DAC-Eingangsspannung vs. resultierender Strom)\n- **Unterschiedliche Perspektiven**: Hilft bei der Analyse von Messfehlern und Systemverhalten\n\n### 4.7 Fehlerbehandlung",
      "metadata": {}
    },
    {
      "id": "c40fd4a5-c79e-40db-b072-7444b0974039",
      "cell_type": "code",
      "source": "except KeyboardInterrupt:\n        print(\"Messung abgebrochen.\")\n    except Exception as e:\n        print(\"Fehler:\", e)\n    finally:\n        cleanup_gpio()",
      "metadata": {
        "trusted": true
      },
      "outputs": [],
      "execution_count": null
    },
    {
      "id": "f6e34d45-98e3-430d-a51a-3bcef06f65aa",
      "cell_type": "markdown",
      "source": "**Robuste Programmbeendigung:**\n- **KeyboardInterrupt**: Sauberes Beenden bei Ctrl+C\n- **Exception**: Allgemeine Fehlerbehandlung\n- **finally**: Cleanup wird IMMER ausgeführt, auch bei Fehlern\n\n---\n\n## 5. Programmausführung\n\n### 5.1 Hauptprogramm starten",
      "metadata": {}
    },
    {
      "id": "fa8c9b38-c1c9-431b-9830-0dd9692a91c7",
      "cell_type": "code",
      "source": "if __name__ == \"__main__\":\n    main()",
      "metadata": {
        "trusted": true
      },
      "outputs": [],
      "execution_count": null
    },
    {
      "id": "f3405d6d-c0f5-4d36-99a3-886f0dbef49c",
      "cell_type": "markdown",
      "source": "**Standard Python-Idiom:**\n- Stellt sicher, dass main() nur beim direkten Ausführen des Scripts aufgerufen wird\n- Nicht beim Import als Modul\n\n---\n\n## 6. Zusammenfassung\n\nDieses Programm realisiert eine vollautomatische Diodenkennlinie-Messstation mit:\n\n**Technische Eigenschaften:**\n- **12-Bit DAC-Auflösung**: 4096 diskrete Spannungswerte\n- **16-Bit ADC-Genauigkeit**: Hochpräzise Spannungsmessungen  \n- **Automatische Kalibrierung**: Kompensiert Hardware-Toleranzen\n- **Robuste Fehlerbehandlung**: Sichere Hardware-Verwaltung\n\n**Messtechnische Vorteile:**\n- **Reproduzierbare Messungen**: Eliminiert menschliche Messfehler\n- **Hohe Punktdichte**: Bis zu 1000+ Messpunkte möglich\n- **Echzeit-Feedback**: Sofortige Kontrolle der Messwerte\n- **Duale Visualisierung**: Verschiedene Analyseperspektiven\n\n",
      "metadata": {}
    },
    {
      "id": "6243ce6b-8f37-41f0-901c-4eb41898fd93",
      "cell_type": "code",
      "source": "",
      "metadata": {
        "trusted": true
      },
      "outputs": [],
      "execution_count": null
    }
  ]
}